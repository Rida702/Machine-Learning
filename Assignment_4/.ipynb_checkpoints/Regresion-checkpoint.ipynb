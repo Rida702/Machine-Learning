{
 "cells": [
  {
   "cell_type": "markdown",
   "metadata": {},
   "source": [
    "# Regression Models"
   ]
  },
  {
   "cell_type": "markdown",
   "metadata": {},
   "source": [
    "## Goals\n",
    "\n",
    "In this Assignmnet :\n",
    "\n",
    " - You Will impliment the regression models"
   ]
  },
  {
   "cell_type": "markdown",
   "metadata": {},
   "source": [
    "## Tools\n",
    "In this lab we will make use of: \n",
    "- NumPy, a popular library for scientific computing\n",
    "- Matplotlib, a popular library for plotting data\n",
    "- Pandas,  a Python library for data analysis"
   ]
  },
  {
   "cell_type": "markdown",
   "metadata": {},
   "source": [
    "### Import Libraries\n",
    "\n",
    "![Libraries](https://github.com/ahmad-14a/CS-F20-ML/blob/main/Regression-Assignment%202/Libraries.png?raw=true)\n"
   ]
  },
  {
   "cell_type": "code",
   "execution_count": 178,
   "metadata": {},
   "outputs": [],
   "source": [
    "#Your code Here\n",
    "#import the necessary libraries\n",
    "import numpy as np\n",
    "import matplotlib.pyplot as plt\n",
    "%matplotlib inline\n",
    "import pandas as pd"
   ]
  },
  {
   "cell_type": "markdown",
   "metadata": {},
   "source": [
    "###  Fetch Data From CSV Files\n",
    "\n",
    "![Load Data](https://github.com/ahmad-14a/CS-F20-ML/blob/main/Regression-Assignment%202/Load%20N%20show.png?raw=true)"
   ]
  },
  {
   "cell_type": "code",
   "execution_count": 179,
   "metadata": {},
   "outputs": [],
   "source": [
    "#Your code Here\n",
    "#Read the trainig and testing data from the file\n",
    "trainData = pd.read_csv('trainRegression.csv')\n",
    "TrD = trainData.head()"
   ]
  },
  {
   "cell_type": "markdown",
   "metadata": {},
   "source": [
    "### Show Data"
   ]
  },
  {
   "cell_type": "code",
   "execution_count": 180,
   "metadata": {},
   "outputs": [
    {
     "data": {
      "text/html": [
       "<div>\n",
       "<style scoped>\n",
       "    .dataframe tbody tr th:only-of-type {\n",
       "        vertical-align: middle;\n",
       "    }\n",
       "\n",
       "    .dataframe tbody tr th {\n",
       "        vertical-align: top;\n",
       "    }\n",
       "\n",
       "    .dataframe thead th {\n",
       "        text-align: right;\n",
       "    }\n",
       "</style>\n",
       "<table border=\"1\" class=\"dataframe\">\n",
       "  <thead>\n",
       "    <tr style=\"text-align: right;\">\n",
       "      <th></th>\n",
       "      <th>X</th>\n",
       "      <th>R</th>\n",
       "    </tr>\n",
       "  </thead>\n",
       "  <tbody>\n",
       "    <tr>\n",
       "      <th>0</th>\n",
       "      <td>0.01</td>\n",
       "      <td>-0.2730</td>\n",
       "    </tr>\n",
       "    <tr>\n",
       "      <th>1</th>\n",
       "      <td>0.02</td>\n",
       "      <td>-0.1170</td>\n",
       "    </tr>\n",
       "    <tr>\n",
       "      <th>2</th>\n",
       "      <td>0.03</td>\n",
       "      <td>-0.3090</td>\n",
       "    </tr>\n",
       "    <tr>\n",
       "      <th>3</th>\n",
       "      <td>0.04</td>\n",
       "      <td>0.0306</td>\n",
       "    </tr>\n",
       "    <tr>\n",
       "      <th>4</th>\n",
       "      <td>0.05</td>\n",
       "      <td>-0.0802</td>\n",
       "    </tr>\n",
       "  </tbody>\n",
       "</table>\n",
       "</div>"
      ],
      "text/plain": [
       "      X       R\n",
       "0  0.01 -0.2730\n",
       "1  0.02 -0.1170\n",
       "2  0.03 -0.3090\n",
       "3  0.04  0.0306\n",
       "4  0.05 -0.0802"
      ]
     },
     "execution_count": 180,
     "metadata": {},
     "output_type": "execute_result"
    }
   ],
   "source": [
    "#Your code Here\n",
    "#Show the first 5 rows of the training data\n",
    "TrD"
   ]
  },
  {
   "cell_type": "markdown",
   "metadata": {},
   "source": [
    "##### Expected Output\n",
    "\n",
    "\n",
    "![Output 1](https://github.com/ahmad-14a/CS-F20-ML/blob/main/Regression-Assignment%202/O1.png?raw=true)\n"
   ]
  },
  {
   "cell_type": "markdown",
   "metadata": {},
   "source": [
    "### Type Casting of Data\n",
    "\n",
    "![TypeCasting](https://github.com/ahmad-14a/CS-F20-ML/blob/main/Regression-Assignment%202/Type%20Casting.png?raw=true)\n"
   ]
  },
  {
   "cell_type": "code",
   "execution_count": 181,
   "metadata": {},
   "outputs": [],
   "source": [
    "#Your code Here\n",
    "#TypeCast the data into numpy array\n",
    "x_train = np.array(trainData['X'])\n",
    "y_train = np.array(trainData['R'])"
   ]
  },
  {
   "cell_type": "markdown",
   "metadata": {},
   "source": [
    "### Plot Data"
   ]
  },
  {
   "cell_type": "code",
   "execution_count": 182,
   "metadata": {},
   "outputs": [
    {
     "data": {
      "image/png": "[encoded data removed]",
      "text/plain": [
       "<Figure size 432x288 with 1 Axes>"
      ]
     },
     "metadata": {
      "needs_background": "light"
     },
     "output_type": "display_data"
    }
   ],
   "source": [
    "plt.plot(x_train, y_train, linewidth=2)\n",
    "plt.title(\"X vs R\")\n",
    "plt.ylabel('R')\n",
    "plt.xlabel('X')\n",
    "plt.show()\n"
   ]
  },
  {
   "cell_type": "markdown",
   "metadata": {},
   "source": [
    "##### Expected Output\n",
    "\n",
    "\n",
    "![Model Equations](https://github.com/ahmad-14a/CS-F20-ML/blob/main/Regression-Assignment%202/O2.png?raw=true)\n"
   ]
  },
  {
   "cell_type": "markdown",
   "metadata": {},
   "source": [
    " ### Fit Linear Regression Model (Training data)\n",
    "\n",
    " As our linear Model was\n",
    " \n",
    "![Cost Funtion](https://github.com/ahmad-14a/CS-F20-ML/blob/main/Regression-Assignment%202/Cost%20funtion1.png?raw=true\n",
    ")\n",
    "\n",
    "And using derivatives we transformed our model into 2 simultaneous equations\n",
    "\n",
    "![Model Equations](https://github.com/ahmad-14a/CS-F20-ML/blob/main/Regression-Assignment%202/Linear%20Model%20Eqs.png?raw=true)\n",
    "\n",
    "\n",
    "Then converted it in matrix form\n",
    "\n",
    "![Model Equations](https://github.com/ahmad-14a/CS-F20-ML/blob/main/Regression-Assignment%202/Linear%20Model.png?raw=true)\n",
    "\n",
    "\n",
    "\n",
    "NOTE :  Now you are required to compute values wihtout using foor loop on tarining data\n",
    "- HINT : Use numpy library for this purpose "
   ]
  },
  {
   "cell_type": "code",
   "execution_count": 183,
   "metadata": {},
   "outputs": [
    {
     "name": "stdout",
     "output_type": "stream",
     "text": [
      "Matrix A :\n",
      "\n",
      " [[283.     444.95  ]\n",
      " [444.95   932.7465]]\n",
      "\n",
      "Matrix B :\n",
      "\n",
      " [[   1.39087  ]\n",
      " [-126.6414295]]\n"
     ]
    }
   ],
   "source": [
    "#Your code Here\n",
    "#For loop is not recommended in these cases, \n",
    "#use numpy functions to calculate the values of above variables in one line of code.\n",
    "#Such as x.shape for number of rows, sum() for sum of all elements in x\n",
    "#np.dot() or multiply suntion for square of x\n",
    "m = x_train.shape[0]\n",
    "sum_x = round(np.sum(x_train), 2)\n",
    "sum_squares = round(np.sum(x_train ** 2), 4)\n",
    "sum_y = round(np.sum(y_train), 5)\n",
    "sum_xy = np.sum(x_train*y_train)\n",
    "\n",
    "A = np.array([[m, sum_x], [sum_x, sum_squares]])  \n",
    "B = np.array([[sum_y], [sum_xy]])\n",
    "print(\"Matrix A :\\n\\n\", A)\n",
    "print(\"\\nMatrix B :\\n\\n\", B)"
   ]
  },
  {
   "cell_type": "markdown",
   "metadata": {},
   "source": [
    "Expected output\n",
    "\n",
    "![Linear Model MAtrixes](https://github.com/ahmad-14a/CS-F20-ML/blob/main/Regression-Assignment%202/Matrixs%20Linear.png?raw=true)\n"
   ]
  },
  {
   "cell_type": "markdown",
   "metadata": {},
   "source": [
    "#### Compute Valus of Both Θ`s\n"
   ]
  },
  {
   "cell_type": "code",
   "execution_count": 184,
   "metadata": {},
   "outputs": [
    {
     "name": "stdout",
     "output_type": "stream",
     "text": [
      "Matrix X for the linear model :\n",
      "\n",
      " [[ 0.8736061 ]\n",
      " [-0.55251074]]\n"
     ]
    }
   ],
   "source": [
    "#Your code Here\n",
    "#Calculate the values of 0_node and 0_1 using Matrix Multiplication\n",
    "#Hint: Use X = A^-1 * B to calculate the values of 0_node and 0_1\n",
    "A_inverse = np.linalg.inv(A)\n",
    "X = A_inverse @ B\n",
    "\n",
    "print(\"Matrix X for the linear model :\\n\\n\", X)"
   ]
  },
  {
   "cell_type": "markdown",
   "metadata": {},
   "source": [
    "Expected Output\n",
    "\n",
    "![Linear Model MAtrixes](https://github.com/ahmad-14a/CS-F20-ML/blob/main/Regression-Assignment%202/Matrixs%20LinearT.png?raw=true)\n"
   ]
  },
  {
   "cell_type": "markdown",
   "metadata": {},
   "source": [
    "### Run Predictions (Testing data)"
   ]
  },
  {
   "cell_type": "code",
   "execution_count": 185,
   "metadata": {},
   "outputs": [],
   "source": [
    "# Your code Here\n",
    "# In order to calculate the pridicted values of y\n",
    "# Use the formula y = 0_node + 0_1 * x\n",
    "# _____DO NOT USE FOR LOOP_____\n",
    "# instead Convert the column of test_x into numpy a 2 dimensional matrix\n",
    "# then use matrix multiplication to calculate the predicted values of y\n",
    "testData = pd.read_csv('testRegression.csv')\n",
    "x_test = np.array(testData['X'])\n",
    "y_test = np.array(testData['R'])\n",
    "theta_0 = X[0, 0]\n",
    "theta_1 = X[1, 0]\n",
    "y_pred = theta_0 + theta_1*x_test"
   ]
  },
  {
   "cell_type": "markdown",
   "metadata": {},
   "source": [
    "### Mean Square Error"
   ]
  },
  {
   "cell_type": "markdown",
   "metadata": {},
   "source": [
    "![Cost Funtion](https://github.com/ahmad-14a/CS-F20-ML/blob/main/Regression-Assignment%202/Cost%20funtion1.png?raw=true\n",
    ")"
   ]
  },
  {
   "cell_type": "code",
   "execution_count": 186,
   "metadata": {},
   "outputs": [
    {
     "name": "stdout",
     "output_type": "stream",
     "text": [
      "Mean Square Error for LINEAR MODEL is::  0.3159321720459775\n"
     ]
    }
   ],
   "source": [
    "#Your code Here\n",
    "#Using cost function calculate the cost of the model\n",
    "Mean_Square_Error = (sum((y_pred - y_test)**2)) / (y_test.shape[0])\n",
    "#Mean_Square_Error = 1/m * (np.sum((y_pred-y_test) ** 2) )\n",
    "print(\"Mean Square Error for LINEAR MODEL is:: \", Mean_Square_Error )"
   ]
  },
  {
   "cell_type": "markdown",
   "metadata": {},
   "source": [
    "Expected Output\n",
    "\n",
    "![MSE of Linear](https://github.com/ahmad-14a/CS-F20-ML/blob/main/Regression-Assignment%202/MSE%20Linear.png?raw=true\n",
    ")"
   ]
  },
  {
   "cell_type": "markdown",
   "metadata": {},
   "source": [
    "### Plot Data (Train and Test Data)"
   ]
  },
  {
   "cell_type": "code",
   "execution_count": 187,
   "metadata": {},
   "outputs": [
    {
     "data": {
      "image/png": "[encoded data removed]",
      "text/plain": [
       "<Figure size 432x288 with 1 Axes>"
      ]
     },
     "metadata": {
      "needs_background": "light"
     },
     "output_type": "display_data"
    },
    {
     "data": {
      "image/png": "[encoded data removed]",
      "text/plain": [
       "<Figure size 432x288 with 1 Axes>"
      ]
     },
     "metadata": {
      "needs_background": "light"
     },
     "output_type": "display_data"
    }
   ],
   "source": [
    "##Your code Here\n",
    "#Plot the predicted values of y against the test_x\n",
    "plt.scatter(x_train, y_train, color = \"purple\")\n",
    "plt.plot(x_test, y_test ,color = \"red\")\n",
    "plt.legend((\"Train Data\", \"Linear model\"))\n",
    "plt.title(\"Linear Model for the train data\")\n",
    "plt.xlabel(\"X\")\n",
    "plt.ylabel(\"R\")\n",
    "plt.show()\n",
    "\n",
    "plt.scatter(x_test, y_test, color = \"purple\")\n",
    "plt.plot(x_test, y_test ,color = \"red\")\n",
    "plt.legend((\"Test Data\", \"Linear model\"))\n",
    "plt.title(\"Linear Model for the test data\")\n",
    "plt.xlabel(\"X\")\n",
    "plt.ylabel(\"R\")\n",
    "plt.show()"
   ]
  },
  {
   "cell_type": "code",
   "execution_count": null,
   "metadata": {},
   "outputs": [],
   "source": []
  },
  {
   "cell_type": "markdown",
   "metadata": {},
   "source": [
    "### Expected Outputs for Linear Model\n",
    "\n",
    "![Training Data Plot](https://github.com/ahmad-14a/CS-F20-ML/blob/main/Regression-Assignment%202/Linear%20O.png?raw=true)\n",
    "\n",
    "![Test Data Plot](https://github.com/ahmad-14a/CS-F20-ML/blob/main/Regression-Assignment%202/Linear%20O%20test.png?raw=true)\n"
   ]
  },
  {
   "cell_type": "markdown",
   "metadata": {},
   "source": [
    "## Now Fit The Quadratic Model\n",
    "\n",
    " As our Quadratic Model was\n",
    " \n",
    "![Cost Funtion for quadratic ](https://github.com/ahmad-14a/CS-F20-ML/blob/main/Regression-Assignment%202/Cost%20funtion2.png?raw=true\n",
    ")\n",
    "\n",
    "And using derivatives we transformed our model into 3 simultaneous equations\n",
    "\n",
    "![Model Equations of quadratic](https://github.com/ahmad-14a/CS-F20-ML/blob/main/Regression-Assignment%202/Quad%20Model%20Eqs.png?raw=true)\n",
    "\n",
    "\n",
    "Then converted it in matrix form\n",
    "\n",
    "![Model Formula of Quadratic](https://github.com/ahmad-14a/CS-F20-ML/blob/main/Regression-Assignment%202/Quad%20Model1.png?raw=true)\n",
    "\n",
    "\n",
    "\n",
    "NOTE :  Now you are required to compute values wihtout using foor loop on tarining data\n",
    "- HINT : Use numpy library for this purpose "
   ]
  },
  {
   "cell_type": "code",
   "execution_count": 172,
   "metadata": {},
   "outputs": [
    {
     "name": "stdout",
     "output_type": "stream",
     "text": [
      "Matrix A :\n",
      "\n",
      " [[ 283.          444.95        932.7465    ]\n",
      " [ 444.95        932.7465     2199.781025  ]\n",
      " [ 932.7465     2199.781025   5533.85257677]]\n",
      "\n",
      "Matrix B :\n",
      "\n",
      " [[   1.39087   ]\n",
      " [-126.6414295 ]\n",
      " [-378.87568955]]\n"
     ]
    }
   ],
   "source": [
    "#Your code Here\n",
    "#For loop is not recommended in these cases, \n",
    "#use numpy functions to calculate the values of above variables in one line of code.\n",
    "#Such as x.shape for number of rows, sum() for sum of all elements in x\n",
    "#np.dot() or multiply suntion for square of x \n",
    "m = x_train.shape[0]\n",
    "sum_x = round(np.sum(x_train), 2)\n",
    "sum_2x = round(np.sum(x_train ** 2), 4)\n",
    "sum_3x = np.sum(x_train ** 3)\n",
    "sum_4x = np.sum(x_train ** 4)\n",
    "\n",
    "sum_y = round(np.sum(y_train), 5)\n",
    "sum_xy = np.sum(x_train*y_train)\n",
    "sum_x2y = np.sum(x_train*x_train*y_train)\n",
    "\n",
    "A = np.array([[m, sum_x, sum_2x], [sum_x, sum_2x, sum_3x], [sum_2x, sum_3x, sum_4x]])  \n",
    "B = np.array([[sum_y], [sum_xy], [sum_x2y]])\n",
    "\n",
    "print(\"Matrix A :\\n\\n\", A)\n",
    "print(\"\\nMatrix B :\\n\\n\", B)"
   ]
  },
  {
   "cell_type": "markdown",
   "metadata": {},
   "source": [
    "Expected Output"
   ]
  },
  {
   "cell_type": "markdown",
   "metadata": {},
   "source": [
    "![Quadratic Model Matrixes](https://github.com/ahmad-14a/CS-F20-ML/blob/main/Regression-Assignment%202/Matrixs%20Quad1.png?raw=true)"
   ]
  },
  {
   "cell_type": "markdown",
   "metadata": {},
   "source": [
    "#### Compute Valus Of Three Θ`s\n"
   ]
  },
  {
   "cell_type": "code",
   "execution_count": 173,
   "metadata": {},
   "outputs": [
    {
     "name": "stdout",
     "output_type": "stream",
     "text": [
      "Matrix X for the Quadratic model :\n",
      "\n",
      " [[ 1.10611454]\n",
      " [-0.99606599]\n",
      " [ 0.14104585]]\n"
     ]
    }
   ],
   "source": [
    "#Your code Here\n",
    "#Calculate the values of 0_node and 0_1 using Matrix Multiplication\n",
    "#Hint: Use X = A^-1 * B to calculate the values of 0_node , 0_1 and 0_2\n",
    "A_inverse = np.linalg.inv(A)\n",
    "X = A_inverse @ B\n",
    "\n",
    "print(\"Matrix X for the Quadratic model :\\n\\n\", X)"
   ]
  },
  {
   "cell_type": "markdown",
   "metadata": {},
   "source": [
    "Expected Output\n",
    "\n",
    "![Quadratic Model MAtrixes](https://github.com/ahmad-14a/CS-F20-ML/blob/main/Regression-Assignment%202/Matrixs%20Quad.png?raw=true)\n"
   ]
  },
  {
   "cell_type": "markdown",
   "metadata": {},
   "source": [
    "### Run Predictions (Testing data)"
   ]
  },
  {
   "cell_type": "code",
   "execution_count": 174,
   "metadata": {},
   "outputs": [],
   "source": [
    "# Your code Here\n",
    "# In order to calculate the pridicted values of y\n",
    "# Use the formula y = 0_node + 0_1 * x\n",
    "# _____DO NOT USE FOR LOOP_____\n",
    "# instead Convert the column of test_x into numpy a 2 dimensional matrix\n",
    "# then use matrix multiplication to calculate the predicted values of y\n",
    "testData = pd.read_csv('testRegression.csv')\n",
    "x_test = np.array(testData['X'])\n",
    "theta_0 = X[0, 0]\n",
    "theta_1 = X[1, 0]\n",
    "theta_2 = X[2, 0]\n",
    "y_pred = theta_0 + theta_1*x_test + theta_2*x_test*x_test"
   ]
  },
  {
   "cell_type": "markdown",
   "metadata": {},
   "source": [
    "### Mean Square Error"
   ]
  },
  {
   "cell_type": "markdown",
   "metadata": {},
   "source": [
    "![Cost Funtion](https://github.com/ahmad-14a/CS-F20-ML/blob/main/Regression-Assignment%202/Cost%20funtion2.png?raw=true\n",
    ")"
   ]
  },
  {
   "cell_type": "code",
   "execution_count": 176,
   "metadata": {},
   "outputs": [
    {
     "name": "stdout",
     "output_type": "stream",
     "text": [
      "Mean Square Error for QUADRATIC MODEL is::  0.32604179594962934\n"
     ]
    }
   ],
   "source": [
    "#Your code Here\n",
    "#Using cost function calculate the cost of the model\n",
    "Mean_Square_Error = (np.sum((y_pred-y_test) ** 2) ) / (y_test.shape[0])\n",
    "print(\"Mean Square Error for QUADRATIC MODEL is:: \", Mean_Square_Error )"
   ]
  },
  {
   "cell_type": "markdown",
   "metadata": {},
   "source": [
    "Expected Output\n",
    "\n",
    "![MSE of Quadratic](https://github.com/ahmad-14a/CS-F20-ML/blob/main/Regression-Assignment%202/MSE%20Quad.png?raw=true\n",
    ")"
   ]
  },
  {
   "cell_type": "markdown",
   "metadata": {},
   "source": [
    "### Plot Data (Train and Test Data)"
   ]
  },
  {
   "cell_type": "code",
   "execution_count": 177,
   "metadata": {},
   "outputs": [
    {
     "data": {
      "image/png": "[encoded data removed]",
      "text/plain": [
       "<Figure size 432x288 with 1 Axes>"
      ]
     },
     "metadata": {
      "needs_background": "light"
     },
     "output_type": "display_data"
    },
    {
     "data": {
      "image/png": "[encoded data removed]",
      "text/plain": [
       "<Figure size 432x288 with 1 Axes>"
      ]
     },
     "metadata": {
      "needs_background": "light"
     },
     "output_type": "display_data"
    }
   ],
   "source": [
    "##Your code Here\n",
    "#Plot the predicted values of y against the test_x\n",
    "plt.scatter(x_train, y_train, color = \"purple\")\n",
    "plt.plot(x_test, y_test ,color = \"red\")\n",
    "plt.legend((\"Train Data\", \"Quadratic model\"))\n",
    "plt.title(\"Linear Model for the train data\")\n",
    "plt.xlabel(\"X\")\n",
    "plt.ylabel(\"R\")\n",
    "plt.show()\n",
    "\n",
    "plt.scatter(x_test, y_test, color = \"purple\")\n",
    "plt.plot(x_test, y_test ,color = \"red\")\n",
    "plt.legend((\"Test Data\", \"Linear model\"))\n",
    "plt.title(\"Quadratic Model for the test data\")\n",
    "plt.xlabel(\"X\")\n",
    "plt.ylabel(\"R\")\n",
    "plt.show()"
   ]
  },
  {
   "cell_type": "markdown",
   "metadata": {},
   "source": [
    "### Expected Outputs for Quadratic Model\n",
    "\n",
    "![Training Data Plot](https://github.com/ahmad-14a/CS-F20-ML/blob/main/Regression-Assignment%202/Quad%20O.png?raw=true)\n",
    "\n",
    "![Test Data Plot](https://github.com/ahmad-14a/CS-F20-ML/blob/main/Regression-Assignment%202/Quad%20O%20tets.png?raw=true)\n"
   ]
  },
  {
   "cell_type": "markdown",
   "metadata": {},
   "source": [
    "## Now Fit The Cubic Model\n",
    "\n",
    "Cubic Model in matrix form\n",
    "\n",
    "![Model Formula of Quadratic](https://github.com/ahmad-14a/CS-F20-ML/blob/main/Regression-Assignment%202/Cubic%20Model.png?raw=true)\n",
    "\n",
    "\n",
    "\n",
    "NOTE :  Now you are required to compute values wihtout using foor loop on tarining data\n",
    "- HINT : Use numpy library for this purpose "
   ]
  },
  {
   "cell_type": "code",
   "execution_count": 188,
   "metadata": {},
   "outputs": [
    {
     "name": "stdout",
     "output_type": "stream",
     "text": [
      "Matrix A :\n",
      "\n",
      " [[  283.           444.95         932.7465      2199.781025  ]\n",
      " [  444.95         932.7465      2199.781025    5533.85257677]\n",
      " [  932.7465      2199.781025    5533.85257677 14501.33829628]\n",
      " [ 2199.781025    5533.85257677 14501.33829628 39086.48841058]]\n",
      "\n",
      "Matrix B :\n",
      "\n",
      " [[   1.39087   ]\n",
      " [-126.6414295 ]\n",
      " [-378.87568955]\n",
      " [-952.32410353]]\n"
     ]
    }
   ],
   "source": [
    "#Your code Here\n",
    "#For loop is not recommended in these cases, \n",
    "#use numpy functions to calculate the values of above variables in one line of code.\n",
    "#Such as x.shape for number of rows, sum() for sum of all elements in x\n",
    "#np.dot() or multiply suntion for square of x \n",
    "m = x_train.shape[0]\n",
    "sum_x = round(np.sum(x_train), 2)\n",
    "sum_2x = round(np.sum(x_train ** 2), 4)\n",
    "sum_3x = np.sum(x_train ** 3)\n",
    "sum_4x = np.sum(x_train ** 4)\n",
    "sum_5x = np.sum(x_train ** 5)\n",
    "sum_6x = np.sum(x_train ** 6)\n",
    "\n",
    "sum_y = round(np.sum(y_train), 5)\n",
    "sum_xy = np.sum(x_train*y_train)\n",
    "sum_x2y = np.sum(x_train*x_train*y_train)\n",
    "sum_x3y = np.sum(x_train*x_train*x_train*y_train)\n",
    "\n",
    "A = np.array([[m, sum_x, sum_2x, sum_3x], [sum_x, sum_2x, sum_3x,sum_4x], [sum_2x, sum_3x, sum_4x, sum_5x], \n",
    "              [sum_3x, sum_4x, sum_5x, sum_6x]])  \n",
    "B = np.array([[sum_y], [sum_xy], [sum_x2y], [sum_x3y]])\n",
    "\n",
    "print(\"Matrix A :\\n\\n\", A)\n",
    "print(\"\\nMatrix B :\\n\\n\", B)"
   ]
  },
  {
   "cell_type": "markdown",
   "metadata": {},
   "source": [
    "Expected Output\n",
    "\n",
    "![Cubic Model Matrixes](https://github.com/ahmad-14a/CS-F20-ML/blob/main/Regression-Assignment%202/Matrixs%20Cubic1.png?raw=true)"
   ]
  },
  {
   "cell_type": "markdown",
   "metadata": {},
   "source": [
    "#### Compute Valus Of Four Θ`s\n"
   ]
  },
  {
   "cell_type": "code",
   "execution_count": 189,
   "metadata": {},
   "outputs": [
    {
     "name": "stdout",
     "output_type": "stream",
     "text": [
      "Matrix X for the Quadratic model :\n",
      "\n",
      " [[-0.18862637]\n",
      " [ 3.94071895]\n",
      " [-3.78251095]\n",
      " [ 0.83166145]]\n"
     ]
    }
   ],
   "source": [
    "#Your code Here\n",
    "#Calculate the values of 0_node and 0_1 using Matrix Multiplication\n",
    "#Hint: Use X = A^-1 * B to calculate the values of 0_node , 0_1 ,0_2 and 0_3\n",
    "A_inverse = np.linalg.inv(A)\n",
    "X = A_inverse @ B\n",
    "\n",
    "print(\"Matrix X for the Quadratic model :\\n\\n\", X)"
   ]
  },
  {
   "cell_type": "markdown",
   "metadata": {},
   "source": [
    "Expected Output\n",
    "\n",
    "![Cubic Model MAtrixes](https://github.com/ahmad-14a/CS-F20-ML/blob/main/Regression-Assignment%202/Matrixs%20Cubic.png?raw=true)\n"
   ]
  },
  {
   "cell_type": "markdown",
   "metadata": {},
   "source": [
    "### Run Predictions (Testing data)"
   ]
  },
  {
   "cell_type": "code",
   "execution_count": 191,
   "metadata": {},
   "outputs": [],
   "source": [
    "# Your code Here\n",
    "# In order to calculate the pridicted values of y\n",
    "# Use the formula y = 0_node + 0_1 * x\n",
    "# _____DO NOT USE FOR LOOP_____\n",
    "# instead Convert the column of test_x into numpy a 2 dimensional matrix\n",
    "# then use matrix multiplication to calculate the predicted values of y\n",
    "testData = pd.read_csv('testRegression.csv')\n",
    "x_test = np.array(testData['X'])\n",
    "theta_0 = X[0, 0]\n",
    "theta_1 = X[1, 0]\n",
    "theta_2 = X[2, 0]\n",
    "theta_3 = X[3, 0]\n",
    "y_pred = theta_0 + theta_1*x_test + theta_2*x_test*x_test + theta_3*x_test*x_test*x_test"
   ]
  },
  {
   "cell_type": "markdown",
   "metadata": {},
   "source": [
    "### Mean Square Error"
   ]
  },
  {
   "cell_type": "code",
   "execution_count": 192,
   "metadata": {},
   "outputs": [
    {
     "name": "stdout",
     "output_type": "stream",
     "text": [
      "Mean Square Error for QUADRATIC MODEL is::  0.05154205769095412\n"
     ]
    }
   ],
   "source": [
    "#Your code Here\n",
    "#Using cost function calculate the cost of the model\n",
    "Mean_Square_Error = (np.sum((y_pred-y_test) ** 2) ) / (y_test.shape[0])\n",
    "print(\"Mean Square Error for QUADRATIC MODEL is:: \", Mean_Square_Error )"
   ]
  },
  {
   "cell_type": "markdown",
   "metadata": {},
   "source": [
    "Expected Output\n",
    "\n",
    "![MSE of Cubic](https://github.com/ahmad-14a/CS-F20-ML/blob/main/Regression-Assignment%202/MSE%20Cubic.png?raw=true\n",
    ")"
   ]
  },
  {
   "cell_type": "markdown",
   "metadata": {},
   "source": [
    "### Plot Data (Train and Test Data)"
   ]
  },
  {
   "cell_type": "code",
   "execution_count": 193,
   "metadata": {},
   "outputs": [
    {
     "data": {
      "image/png": "[encoded data removed]",
      "text/plain": [
       "<Figure size 432x288 with 1 Axes>"
      ]
     },
     "metadata": {
      "needs_background": "light"
     },
     "output_type": "display_data"
    },
    {
     "data": {
      "image/png": "[encoded data removed]",
      "text/plain": [
       "<Figure size 432x288 with 1 Axes>"
      ]
     },
     "metadata": {
      "needs_background": "light"
     },
     "output_type": "display_data"
    }
   ],
   "source": [
    "##Your code Here\n",
    "#Plot the predicted values of y against the test_x\n",
    "plt.scatter(x_train, y_train, color = \"purple\")\n",
    "plt.plot(x_test, y_test ,color = \"red\")\n",
    "plt.legend((\"Train Data\", \"Quadratic model\"))\n",
    "plt.title(\"Linear Model for the train data\")\n",
    "plt.xlabel(\"X\")\n",
    "plt.ylabel(\"R\")\n",
    "plt.show()\n",
    "\n",
    "plt.scatter(x_test, y_test, color = \"purple\")\n",
    "plt.plot(x_test, y_test ,color = \"red\")\n",
    "plt.legend((\"Test Data\", \"Linear model\"))\n",
    "plt.title(\"Quadratic Model for the test data\")\n",
    "plt.xlabel(\"X\")\n",
    "plt.ylabel(\"R\")\n",
    "plt.show()"
   ]
  },
  {
   "cell_type": "markdown",
   "metadata": {},
   "source": [
    "### Expected Outputs for Cubic Model\n",
    "\n",
    "![Training Data Plot](https://github.com/ahmad-14a/CS-F20-ML/blob/main/Regression-Assignment%202/Cubic%20O.png?raw=true)\n",
    "\n",
    "![Test Data Plot](https://github.com/ahmad-14a/CS-F20-ML/blob/main/Regression-Assignment%202/Cubic%20O%20test.png?raw=true)\n"
   ]
  },
  {
   "cell_type": "markdown",
   "metadata": {},
   "source": [
    "### Now You Are Required To Fit Your 4 , 5 and 6 degree Models Step By Step As You Did Before"
   ]
  },
  {
   "cell_type": "markdown",
   "metadata": {},
   "source": [
    "## Now Fit The 4 degree Model"
   ]
  },
  {
   "cell_type": "code",
   "execution_count": null,
   "metadata": {},
   "outputs": [],
   "source": [
    "#Your code Here\n",
    "#Step#1 Find A B matrix\n",
    "m = x_train.shape[0]\n",
    "sum_x = round(np.sum(x_train), 2)\n",
    "sum_2x = round(np.sum(x_train ** 2), 4)\n",
    "sum_3x = np.sum(x_train ** 3)\n",
    "sum_4x = np.sum(x_train ** 4)\n",
    "sum_5x = np.sum(x_train ** 5)\n",
    "sum_6x = np.sum(x_train ** 6)\n",
    "\n",
    "sum_y = round(np.sum(y_train), 5)\n",
    "sum_xy = np.sum(x_train*y_train)\n",
    "sum_x2y = np.sum(x_train*x_train*y_train)\n",
    "sum_x3y = np.sum(x_train*x_train*x_train*y_train)\n",
    "\n",
    "A = np.array([[m, sum_x, sum_2x, sum_3x], [sum_x, sum_2x, sum_3x,sum_4x], [sum_2x, sum_3x, sum_4x, sum_5x], \n",
    "              [sum_3x, sum_4x, sum_5x, sum_6x]])  \n",
    "B = np.array([[sum_y], [sum_xy], [sum_x2y], [sum_x3y]])\n",
    "\n",
    "print(\"Matrix A :\\n\\n\", A)\n",
    "print(\"\\nMatrix B :\\n\\n\", B)\n",
    "\n",
    "#Step 2 Find Matrix X\n",
    "A_inverse = np.linalg.inv(A)\n",
    "X = A_inverse @ B\n",
    "print(\"Matrix X for the Quadratic model :\\n\\n\", X)\n",
    "\n",
    "#Step 3 Finf y_pred\n",
    "testData = pd.read_csv('testRegression.csv')\n",
    "x_test = np.array(testData['X'])\n",
    "theta_0 = X[0, 0]\n",
    "theta_1 = X[1, 0]\n",
    "theta_2 = X[2, 0]\n",
    "theta_3 = X[3, 0]\n",
    "y_pred = theta_0 + theta_1*x_test + theta_2*x_test*x_test + theta_3*x_test*x_test*x_test\n",
    "\n",
    "#Step 4 calculate Cost Function\n",
    "Mean_Square_Error = (np.sum((y_pred-y_test) ** 2) ) / (y_test.shape[0])\n",
    "print(\"Mean Square Error for QUADRATIC MODEL is:: \", Mean_Square_Error )\n",
    "\n",
    "#Plot the graphs/results\n",
    "plt.scatter(x_train, y_train, color = \"purple\")\n",
    "plt.plot(x_test, y_test ,color = \"red\")\n",
    "plt.legend((\"Train Data\", \"Quadratic model\"))\n",
    "plt.title(\"Linear Model for the train data\")\n",
    "plt.xlabel(\"X\")\n",
    "plt.ylabel(\"R\")\n",
    "plt.show()\n",
    "\n",
    "plt.scatter(x_test, y_test, color = \"purple\")\n",
    "plt.plot(x_test, y_test ,color = \"red\")\n",
    "plt.legend((\"Test Data\", \"Linear model\"))\n",
    "plt.title(\"Quadratic Model for the test data\")\n",
    "plt.xlabel(\"X\")\n",
    "plt.ylabel(\"R\")\n",
    "plt.show()\n",
    "\n",
    "\n",
    "\n",
    "\n",
    "\n",
    "\n",
    "\n",
    "\n",
    "\n",
    "\n",
    "\n",
    "\n",
    "\n",
    "\n",
    "\n",
    "\n",
    "\n"
   ]
  },
  {
   "cell_type": "markdown",
   "metadata": {},
   "source": [
    "## Now Fit The 5 degree Model"
   ]
  },
  {
   "cell_type": "code",
   "execution_count": null,
   "metadata": {},
   "outputs": [],
   "source": [
    "#Your code Here\n",
    "\n",
    "\n",
    "\n",
    "\n",
    "\n",
    "\n",
    "\n",
    "#Your code Here\n",
    "#Step#1 Find A B matrix\n",
    "m = x_train.shape[0]\n",
    "sum_x = round(np.sum(x_train), 2)\n",
    "sum_2x = round(np.sum(x_train ** 2), 4)\n",
    "sum_3x = np.sum(x_train ** 3)\n",
    "sum_4x = np.sum(x_train ** 4)\n",
    "sum_5x = np.sum(x_train ** 5)\n",
    "sum_6x = np.sum(x_train ** 6)\n",
    "\n",
    "sum_y = round(np.sum(y_train), 5)\n",
    "sum_xy = np.sum(x_train*y_train)\n",
    "sum_x2y = np.sum(x_train*x_train*y_train)\n",
    "sum_x3y = np.sum(x_train*x_train*x_train*y_train)\n",
    "\n",
    "A = np.array([[m, sum_x, sum_2x, sum_3x], [sum_x, sum_2x, sum_3x,sum_4x], [sum_2x, sum_3x, sum_4x, sum_5x], \n",
    "              [sum_3x, sum_4x, sum_5x, sum_6x]])  \n",
    "B = np.array([[sum_y], [sum_xy], [sum_x2y], [sum_x3y]])\n",
    "\n",
    "print(\"Matrix A :\\n\\n\", A)\n",
    "print(\"\\nMatrix B :\\n\\n\", B)\n",
    "\n",
    "#Step 2 Find Matrix X\n",
    "A_inverse = np.linalg.inv(A)\n",
    "X = A_inverse @ B\n",
    "print(\"Matrix X for the Quadratic model :\\n\\n\", X)\n",
    "\n",
    "#Step 3 Finf y_pred\n",
    "testData = pd.read_csv('testRegression.csv')\n",
    "x_test = np.array(testData['X'])\n",
    "theta_0 = X[0, 0]\n",
    "theta_1 = X[1, 0]\n",
    "theta_2 = X[2, 0]\n",
    "theta_3 = X[3, 0]\n",
    "y_pred = theta_0 + theta_1*x_test + theta_2*x_test*x_test + theta_3*x_test*x_test*x_test\n",
    "\n",
    "#Step 4 calculate Cost Function\n",
    "Mean_Square_Error = (np.sum((y_pred-y_test) ** 2) ) / (y_test.shape[0])\n",
    "print(\"Mean Square Error for QUADRATIC MODEL is:: \", Mean_Square_Error )\n",
    "\n",
    "#Plot the graphs/results\n",
    "plt.scatter(x_train, y_train, color = \"purple\")\n",
    "plt.plot(x_test, y_test ,color = \"red\")\n",
    "plt.legend((\"Train Data\", \"Quadratic model\"))\n",
    "plt.title(\"Linear Model for the train data\")\n",
    "plt.xlabel(\"X\")\n",
    "plt.ylabel(\"R\")\n",
    "plt.show()\n",
    "\n",
    "plt.scatter(x_test, y_test, color = \"purple\")\n",
    "plt.plot(x_test, y_test ,color = \"red\")\n",
    "plt.legend((\"Test Data\", \"Linear model\"))\n",
    "plt.title(\"Quadratic Model for the test data\")\n",
    "plt.xlabel(\"X\")\n",
    "plt.ylabel(\"R\")\n",
    "plt.show()\n",
    "\n",
    "\n",
    "\n",
    "\n",
    "\n",
    "\n",
    "\n",
    "\n",
    "\n",
    "\n",
    "\n",
    "\n",
    "\n",
    "\n",
    "\n",
    "\n",
    "\n",
    "\n",
    "\n",
    "\n"
   ]
  },
  {
   "cell_type": "markdown",
   "metadata": {},
   "source": [
    "## Now Fit The 6 degree Model"
   ]
  },
  {
   "cell_type": "code",
   "execution_count": null,
   "metadata": {},
   "outputs": [],
   "source": [
    "#Your code Here\n",
    "\n",
    "\n",
    "\n",
    "\n",
    "\n",
    "\n",
    "\n",
    "\n",
    "\n",
    "\n",
    "#Your code Here\n",
    "#Step#1 Find A B matrix\n",
    "m = x_train.shape[0]\n",
    "sum_x = round(np.sum(x_train), 2)\n",
    "sum_2x = round(np.sum(x_train ** 2), 4)\n",
    "sum_3x = np.sum(x_train ** 3)\n",
    "sum_4x = np.sum(x_train ** 4)\n",
    "sum_5x = np.sum(x_train ** 5)\n",
    "sum_6x = np.sum(x_train ** 6)\n",
    "\n",
    "sum_y = round(np.sum(y_train), 5)\n",
    "sum_xy = np.sum(x_train*y_train)\n",
    "sum_x2y = np.sum(x_train*x_train*y_train)\n",
    "sum_x3y = np.sum(x_train*x_train*x_train*y_train)\n",
    "\n",
    "A = np.array([[m, sum_x, sum_2x, sum_3x], [sum_x, sum_2x, sum_3x,sum_4x], [sum_2x, sum_3x, sum_4x, sum_5x], \n",
    "              [sum_3x, sum_4x, sum_5x, sum_6x]])  \n",
    "B = np.array([[sum_y], [sum_xy], [sum_x2y], [sum_x3y]])\n",
    "\n",
    "print(\"Matrix A :\\n\\n\", A)\n",
    "print(\"\\nMatrix B :\\n\\n\", B)\n",
    "\n",
    "#Step 2 Find Matrix X\n",
    "A_inverse = np.linalg.inv(A)\n",
    "X = A_inverse @ B\n",
    "print(\"Matrix X for the Quadratic model :\\n\\n\", X)\n",
    "\n",
    "#Step 3 Finf y_pred\n",
    "testData = pd.read_csv('testRegression.csv')\n",
    "x_test = np.array(testData['X'])\n",
    "theta_0 = X[0, 0]\n",
    "theta_1 = X[1, 0]\n",
    "theta_2 = X[2, 0]\n",
    "theta_3 = X[3, 0]\n",
    "y_pred = theta_0 + theta_1*x_test + theta_2*x_test*x_test + theta_3*x_test*x_test*x_test\n",
    "\n",
    "#Step 4 calculate Cost Function\n",
    "Mean_Square_Error = (np.sum((y_pred-y_test) ** 2) ) / (y_test.shape[0])\n",
    "print(\"Mean Square Error for QUADRATIC MODEL is:: \", Mean_Square_Error )\n",
    "\n",
    "#Plot the graphs/results\n",
    "plt.scatter(x_train, y_train, color = \"purple\")\n",
    "plt.plot(x_test, y_test ,color = \"red\")\n",
    "plt.legend((\"Train Data\", \"Quadratic model\"))\n",
    "plt.title(\"Linear Model for the train data\")\n",
    "plt.xlabel(\"X\")\n",
    "plt.ylabel(\"R\")\n",
    "plt.show()\n",
    "\n",
    "plt.scatter(x_test, y_test, color = \"purple\")\n",
    "plt.plot(x_test, y_test ,color = \"red\")\n",
    "plt.legend((\"Test Data\", \"Linear model\"))\n",
    "plt.title(\"Quadratic Model for the test data\")\n",
    "plt.xlabel(\"X\")\n",
    "plt.ylabel(\"R\")\n",
    "plt.show()\n"
   ]
  },
  {
   "cell_type": "markdown",
   "metadata": {},
   "source": [
    "### Comment on the results by comparing all of your models"
   ]
  },
  {
   "cell_type": "markdown",
   "metadata": {},
   "source": []
  }
 ],
 "metadata": {
  "kernelspec": {
   "display_name": "Python 3 (ipykernel)",
   "language": "python",
   "name": "python3"
  },
  "language_info": {
   "codemirror_mode": {
    "name": "ipython",
    "version": 3
   },
   "file_extension": ".py",
   "mimetype": "text/x-python",
   "name": "python",
   "nbconvert_exporter": "python",
   "pygments_lexer": "ipython3",
   "version": "3.9.7"
  }
 },
 "nbformat": 4,
 "nbformat_minor": 2
}
